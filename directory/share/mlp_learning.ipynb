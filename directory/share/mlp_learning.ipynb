{
 "cells": [
  {
   "cell_type": "code",
   "execution_count": 1,
   "metadata": {
    "id": "9T8thTUv1Lit"
   },
   "outputs": [],
   "source": [
    "import os\n",
    "import random\n",
    "from PIL import Image\n",
    "\n",
    "import random\n",
    "\n",
    "from torch.utils.data import Dataset, DataLoader\n",
    "from torchvision import transforms\n",
    "\n",
    "import torch\n",
    "import torch.nn as nn\n",
    "import torch.optim as optim"
   ]
  },
  {
   "cell_type": "code",
   "execution_count": 2,
   "metadata": {
    "id": "QIQ4JjFJ2CE_"
   },
   "outputs": [],
   "source": [
    "#경로\n",
    "dirs = [f'C:/Users/sando/OneDrive/문서/1.programing/vscode/포니 cnn 분류 메인식스/images/{name}' for name in ['applejack', 'fluttershy', 'pinkie pie', 'rainbow dash', 'rarity', 'twilight sparkle']]"
   ]
  },
  {
   "cell_type": "code",
   "execution_count": 4,
   "metadata": {
    "colab": {
     "base_uri": "https://localhost:8080/"
    },
    "id": "R5OXUmW22Cq4",
    "outputId": "ce86ec44-885f-4d77-b73b-d31733215ad0"
   },
   "outputs": [
    {
     "name": "stderr",
     "output_type": "stream",
     "text": [
      "C:\\Users\\sando\\AppData\\Local\\Temp\\ipykernel_20436\\3029489583.py:17: DeprecationWarning: ANTIALIAS is deprecated and will be removed in Pillow 10 (2023-07-01). Use LANCZOS or Resampling.LANCZOS instead.\n",
      "  img = img.resize((new_width, new_height), Image.ANTIALIAS)\n"
     ]
    },
    {
     "name": "stdout",
     "output_type": "stream",
     "text": [
      "Invalid image: C:/Users/sando/OneDrive/문서/1.programing/vscode/포니 cnn 분류 메인식스/images/applejack\\applejack_66716.jpg\n",
      "Invalid image: C:/Users/sando/OneDrive/문서/1.programing/vscode/포니 cnn 분류 메인식스/images/applejack\\applejack_69390.jpg\n"
     ]
    },
    {
     "name": "stderr",
     "output_type": "stream",
     "text": [
      "c:\\Users\\sando\\AppData\\Local\\Programs\\Python\\Python311\\Lib\\site-packages\\PIL\\Image.py:3176: DecompressionBombWarning: Image size (94828164 pixels) exceeds limit of 89478485 pixels, could be decompression bomb DOS attack.\n",
      "  warnings.warn(\n",
      "c:\\Users\\sando\\AppData\\Local\\Programs\\Python\\Python311\\Lib\\site-packages\\PIL\\Image.py:3176: DecompressionBombWarning: Image size (123862368 pixels) exceeds limit of 89478485 pixels, could be decompression bomb DOS attack.\n",
      "  warnings.warn(\n",
      "c:\\Users\\sando\\AppData\\Local\\Programs\\Python\\Python311\\Lib\\site-packages\\PIL\\Image.py:3176: DecompressionBombWarning: Image size (105722496 pixels) exceeds limit of 89478485 pixels, could be decompression bomb DOS attack.\n",
      "  warnings.warn(\n",
      "c:\\Users\\sando\\AppData\\Local\\Programs\\Python\\Python311\\Lib\\site-packages\\PIL\\Image.py:3176: DecompressionBombWarning: Image size (124160014 pixels) exceeds limit of 89478485 pixels, could be decompression bomb DOS attack.\n",
      "  warnings.warn(\n",
      "c:\\Users\\sando\\AppData\\Local\\Programs\\Python\\Python311\\Lib\\site-packages\\PIL\\Image.py:3176: DecompressionBombWarning: Image size (90000000 pixels) exceeds limit of 89478485 pixels, could be decompression bomb DOS attack.\n",
      "  warnings.warn(\n",
      "c:\\Users\\sando\\AppData\\Local\\Programs\\Python\\Python311\\Lib\\site-packages\\PIL\\Image.py:3176: DecompressionBombWarning: Image size (98032512 pixels) exceeds limit of 89478485 pixels, could be decompression bomb DOS attack.\n",
      "  warnings.warn(\n"
     ]
    },
    {
     "name": "stdout",
     "output_type": "stream",
     "text": [
      "Invalid image: C:/Users/sando/OneDrive/문서/1.programing/vscode/포니 cnn 분류 메인식스/images/fluttershy\\fluttershy_45270.jpg\n",
      "Invalid image: C:/Users/sando/OneDrive/문서/1.programing/vscode/포니 cnn 분류 메인식스/images/fluttershy\\fluttershy_50943.jpg\n"
     ]
    },
    {
     "name": "stderr",
     "output_type": "stream",
     "text": [
      "c:\\Users\\sando\\AppData\\Local\\Programs\\Python\\Python311\\Lib\\site-packages\\PIL\\Image.py:3176: DecompressionBombWarning: Image size (93050000 pixels) exceeds limit of 89478485 pixels, could be decompression bomb DOS attack.\n",
      "  warnings.warn(\n",
      "c:\\Users\\sando\\AppData\\Local\\Programs\\Python\\Python311\\Lib\\site-packages\\PIL\\Image.py:3176: DecompressionBombWarning: Image size (111320000 pixels) exceeds limit of 89478485 pixels, could be decompression bomb DOS attack.\n",
      "  warnings.warn(\n",
      "c:\\Users\\sando\\AppData\\Local\\Programs\\Python\\Python311\\Lib\\site-packages\\PIL\\Image.py:3176: DecompressionBombWarning: Image size (103310000 pixels) exceeds limit of 89478485 pixels, could be decompression bomb DOS attack.\n",
      "  warnings.warn(\n"
     ]
    },
    {
     "name": "stdout",
     "output_type": "stream",
     "text": [
      "Invalid image: C:/Users/sando/OneDrive/문서/1.programing/vscode/포니 cnn 분류 메인식스/images/pinkie pie\\pinkie pie_44736.jpg\n"
     ]
    },
    {
     "name": "stderr",
     "output_type": "stream",
     "text": [
      "c:\\Users\\sando\\AppData\\Local\\Programs\\Python\\Python311\\Lib\\site-packages\\PIL\\Image.py:3176: DecompressionBombWarning: Image size (113900000 pixels) exceeds limit of 89478485 pixels, could be decompression bomb DOS attack.\n",
      "  warnings.warn(\n"
     ]
    },
    {
     "name": "stdout",
     "output_type": "stream",
     "text": [
      "Invalid image: C:/Users/sando/OneDrive/문서/1.programing/vscode/포니 cnn 분류 메인식스/images/rainbow dash\\rainbow dash_283.jpg\n"
     ]
    },
    {
     "name": "stderr",
     "output_type": "stream",
     "text": [
      "c:\\Users\\sando\\AppData\\Local\\Programs\\Python\\Python311\\Lib\\site-packages\\PIL\\Image.py:3176: DecompressionBombWarning: Image size (96768000 pixels) exceeds limit of 89478485 pixels, could be decompression bomb DOS attack.\n",
      "  warnings.warn(\n",
      "c:\\Users\\sando\\AppData\\Local\\Programs\\Python\\Python311\\Lib\\site-packages\\PIL\\Image.py:3176: DecompressionBombWarning: Image size (118393224 pixels) exceeds limit of 89478485 pixels, could be decompression bomb DOS attack.\n",
      "  warnings.warn(\n"
     ]
    },
    {
     "name": "stdout",
     "output_type": "stream",
     "text": [
      "Invalid image: C:/Users/sando/OneDrive/문서/1.programing/vscode/포니 cnn 분류 메인식스/images/rainbow dash\\rainbow dash_45245.jpg\n",
      "Invalid image: C:/Users/sando/OneDrive/문서/1.programing/vscode/포니 cnn 분류 메인식스/images/rainbow dash\\rainbow dash_45266.jpg\n",
      "Invalid image: C:/Users/sando/OneDrive/문서/1.programing/vscode/포니 cnn 분류 메인식스/images/rainbow dash\\rainbow dash_45272.jpg\n",
      "Invalid image: C:/Users/sando/OneDrive/문서/1.programing/vscode/포니 cnn 분류 메인식스/images/rainbow dash\\rainbow dash_52267.jpg\n"
     ]
    },
    {
     "name": "stderr",
     "output_type": "stream",
     "text": [
      "c:\\Users\\sando\\AppData\\Local\\Programs\\Python\\Python311\\Lib\\site-packages\\PIL\\Image.py:3176: DecompressionBombWarning: Image size (111570000 pixels) exceeds limit of 89478485 pixels, could be decompression bomb DOS attack.\n",
      "  warnings.warn(\n",
      "c:\\Users\\sando\\AppData\\Local\\Programs\\Python\\Python311\\Lib\\site-packages\\PIL\\Image.py:3176: DecompressionBombWarning: Image size (134500000 pixels) exceeds limit of 89478485 pixels, could be decompression bomb DOS attack.\n",
      "  warnings.warn(\n",
      "c:\\Users\\sando\\AppData\\Local\\Programs\\Python\\Python311\\Lib\\site-packages\\PIL\\Image.py:3176: DecompressionBombWarning: Image size (115635600 pixels) exceeds limit of 89478485 pixels, could be decompression bomb DOS attack.\n",
      "  warnings.warn(\n"
     ]
    },
    {
     "name": "stdout",
     "output_type": "stream",
     "text": [
      "Invalid image: C:/Users/sando/OneDrive/문서/1.programing/vscode/포니 cnn 분류 메인식스/images/rarity\\rarity_68122.jpg\n",
      "Invalid image: C:/Users/sando/OneDrive/문서/1.programing/vscode/포니 cnn 분류 메인식스/images/rarity\\rarity_68134.jpg\n"
     ]
    },
    {
     "name": "stderr",
     "output_type": "stream",
     "text": [
      "c:\\Users\\sando\\AppData\\Local\\Programs\\Python\\Python311\\Lib\\site-packages\\PIL\\Image.py:3176: DecompressionBombWarning: Image size (93753000 pixels) exceeds limit of 89478485 pixels, could be decompression bomb DOS attack.\n",
      "  warnings.warn(\n",
      "c:\\Users\\sando\\AppData\\Local\\Programs\\Python\\Python311\\Lib\\site-packages\\PIL\\Image.py:3176: DecompressionBombWarning: Image size (99974238 pixels) exceeds limit of 89478485 pixels, could be decompression bomb DOS attack.\n",
      "  warnings.warn(\n",
      "c:\\Users\\sando\\AppData\\Local\\Programs\\Python\\Python311\\Lib\\site-packages\\PIL\\Image.py:3176: DecompressionBombWarning: Image size (135266133 pixels) exceeds limit of 89478485 pixels, could be decompression bomb DOS attack.\n",
      "  warnings.warn(\n",
      "c:\\Users\\sando\\AppData\\Local\\Programs\\Python\\Python311\\Lib\\site-packages\\PIL\\Image.py:3176: DecompressionBombWarning: Image size (96511040 pixels) exceeds limit of 89478485 pixels, could be decompression bomb DOS attack.\n",
      "  warnings.warn(\n",
      "c:\\Users\\sando\\AppData\\Local\\Programs\\Python\\Python311\\Lib\\site-packages\\PIL\\Image.py:3176: DecompressionBombWarning: Image size (137574176 pixels) exceeds limit of 89478485 pixels, could be decompression bomb DOS attack.\n",
      "  warnings.warn(\n",
      "c:\\Users\\sando\\AppData\\Local\\Programs\\Python\\Python311\\Lib\\site-packages\\PIL\\Image.py:3176: DecompressionBombWarning: Image size (109727606 pixels) exceeds limit of 89478485 pixels, could be decompression bomb DOS attack.\n",
      "  warnings.warn(\n",
      "c:\\Users\\sando\\AppData\\Local\\Programs\\Python\\Python311\\Lib\\site-packages\\PIL\\Image.py:3176: DecompressionBombWarning: Image size (104580000 pixels) exceeds limit of 89478485 pixels, could be decompression bomb DOS attack.\n",
      "  warnings.warn(\n",
      "c:\\Users\\sando\\AppData\\Local\\Programs\\Python\\Python311\\Lib\\site-packages\\PIL\\Image.py:3176: DecompressionBombWarning: Image size (102041087 pixels) exceeds limit of 89478485 pixels, could be decompression bomb DOS attack.\n",
      "  warnings.warn(\n",
      "c:\\Users\\sando\\AppData\\Local\\Programs\\Python\\Python311\\Lib\\site-packages\\PIL\\Image.py:3176: DecompressionBombWarning: Image size (100088352 pixels) exceeds limit of 89478485 pixels, could be decompression bomb DOS attack.\n",
      "  warnings.warn(\n",
      "c:\\Users\\sando\\AppData\\Local\\Programs\\Python\\Python311\\Lib\\site-packages\\PIL\\Image.py:3176: DecompressionBombWarning: Image size (160220000 pixels) exceeds limit of 89478485 pixels, could be decompression bomb DOS attack.\n",
      "  warnings.warn(\n",
      "c:\\Users\\sando\\AppData\\Local\\Programs\\Python\\Python311\\Lib\\site-packages\\PIL\\Image.py:3176: DecompressionBombWarning: Image size (110430000 pixels) exceeds limit of 89478485 pixels, could be decompression bomb DOS attack.\n",
      "  warnings.warn(\n"
     ]
    }
   ],
   "source": [
    "def is_valid_image(image_path):\n",
    "    try:\n",
    "        img = Image.open(image_path)\n",
    "        img.verify() \n",
    "        return True\n",
    "    except:\n",
    "        return False\n",
    "\n",
    "def resize_image(image_path, new_width=300, new_height=300):\n",
    "    try:\n",
    "        img = Image.open(image_path)\n",
    "        img = img.convert(\"RGB\")\n",
    "        img = img.resize((new_width, new_height), Image.ANTIALIAS)\n",
    "        return img\n",
    "    except Exception as e:\n",
    "        print(f\"Error occurred with file {image_path}: {e}\")\n",
    "        return None\n",
    "\n",
    "def create_dataset(dirs):\n",
    "    dataset = []\n",
    "\n",
    "    for dir in dirs:\n",
    "        files = os.listdir(dir)[:2100]\n",
    "\n",
    "        for file in files:\n",
    "            image_path = os.path.join(dir, file)\n",
    "\n",
    "            if not is_valid_image(image_path):\n",
    "                print(f\"Invalid image: {image_path}\")\n",
    "                os.remove(image_path)\n",
    "                continue\n",
    "\n",
    "            resized_img = resize_image(image_path)\n",
    "\n",
    "            if resized_img is None:\n",
    "                continue\n",
    "\n",
    "            resized_img.save(image_path)\n",
    "\n",
    "            dataset.append((image_path, dirs.index(dir)))\n",
    "\n",
    "    random.shuffle(dataset)\n",
    "\n",
    "    train_data = dataset[:int(len(dataset)*0.8)]\n",
    "    valid_data = dataset[int(len(dataset)*0.8):]\n",
    "\n",
    "    return train_data, valid_data\n",
    "\n",
    "\n",
    "train_data, valid_data=create_dataset(dirs)"
   ]
  },
  {
   "cell_type": "code",
   "execution_count": 5,
   "metadata": {
    "id": "eW037JBc2Vht"
   },
   "outputs": [],
   "source": [
    "# pytorch용 customdataset 클래스와 dataloader 객체 생성\n",
    "class CustomDataset(Dataset):\n",
    "\n",
    "  def __init__(self,data , transform=None):\n",
    "      self.data=data\n",
    "      self.transform=transform\n",
    "\n",
    "  def __len__(self):\n",
    "      return len(self.data)\n",
    "\n",
    "  def __getitem__(self,idx):\n",
    "      image_path , label= self.data[idx]\n",
    "      image=Image.open(image_path).convert('RGB')\n",
    "\n",
    "      if self.transform is not None:\n",
    "          image=self.transform(image)\n",
    "\n",
    "      return image,label\n",
    "\n",
    "\n",
    "transformations=transforms.Compose([transforms.ToTensor(),\n",
    "                                    transforms.Normalize(mean=[0.485, 0.456, 0.406], std=[0.229, 0.224, 0.225])])\n",
    "\n",
    "train_dataset=CustomDataset(train_data , transformations)\n",
    "valid_dataset=CustomDataset(valid_data , transformations)\n",
    "\n",
    "train_dataloader=DataLoader(train_dataset,batch_size=32,shuffle=True)\n",
    "valid_dataloader=DataLoader(valid_dataset,batch_size=32,shuffle=True)\n"
   ]
  },
  {
   "cell_type": "code",
   "execution_count": 6,
   "metadata": {
    "colab": {
     "base_uri": "https://localhost:8080/"
    },
    "id": "q3QGUxgM2eGn",
    "outputId": "d39fecba-e750-47b2-9364-364e41766018"
   },
   "outputs": [
    {
     "name": "stdout",
     "output_type": "stream",
     "text": [
      "Epoch 1 / 11, Loss: 1.3509173054543753\n",
      "Epoch 2 / 11, Loss: 0.9017540929809449\n",
      "Epoch 3 / 11, Loss: 0.7875360354544625\n",
      "Epoch 4 / 11, Loss: 0.6985136192942423\n",
      "Epoch 5 / 11, Loss: 0.6108662749566729\n",
      "Epoch 6 / 11, Loss: 0.5316622032059564\n",
      "Epoch 7 / 11, Loss: 0.46291976150066133\n",
      "Epoch 8 / 11, Loss: 0.3768846613783685\n",
      "Epoch 9 / 11, Loss: 0.2927937896478744\n",
      "Epoch 10 / 11, Loss: 0.20245482545523416\n",
      "Epoch 11 / 11, Loss: 0.16766349841796216\n",
      "훈련 완료\n"
     ]
    }
   ],
   "source": [
    "#모델 정의 및 훈련\n",
    "import torch.nn.functional as F\n",
    "\n",
    "num_classes = 6\n",
    "device = torch.device(\"cuda\" if torch.cuda.is_available() else \"cpu\")\n",
    "\n",
    "class SimpleCNN(nn.Module):\n",
    "    def __init__(self):\n",
    "        super(SimpleCNN, self).__init__()\n",
    "        self.conv1 = nn.Conv2d(3, 6, 5)\n",
    "        self.pool = nn.MaxPool2d(2, 2)\n",
    "        self.conv2 = nn.Conv2d(6, 16, 5)\n",
    "        self.fc1 = nn.Linear(16 * 72 * 72 , 120)\n",
    "        self.fc2 = nn.Linear(120,84)\n",
    "        self.fc3 = nn.Linear(84,num_classes)\n",
    "\n",
    "    def forward(self,x):\n",
    "      x=self.pool(F.relu(self.conv1(x)))\n",
    "      x=self.pool(F.relu(self.conv2(x)))\n",
    "      x=x.view(-1,self.num_flat_features(x))\n",
    "      x=F.relu(self.fc1(x))\n",
    "      x=F.relu(self.fc2(x))\n",
    "      return self.fc3(x)\n",
    "\n",
    "    def num_flat_features(self,x):\n",
    "      size=x.size()[1:]\n",
    "      num_features=1\n",
    "      for s in size:\n",
    "          num_features *=s\n",
    "\n",
    "      return num_features\n",
    "\n",
    "model=SimpleCNN()\n",
    "model.to(device)\n",
    "\n",
    "criterion=nn.CrossEntropyLoss()\n",
    "optimizer=torch.optim.SGD(model.parameters(),lr=0.001,momentum=0.9)\n",
    "\n",
    "num_epochs = 11\n",
    "\n",
    "for epoch in range(num_epochs):\n",
    "    running_loss = 0.0\n",
    "    for i,(inputs , labels) in enumerate(train_dataloader):\n",
    "\n",
    "          inputs=inputs.to(device)\n",
    "          labels=labels.to(device)\n",
    "\n",
    "          outputs=model(inputs)\n",
    "          loss=criterion(outputs , labels)\n",
    "\n",
    "          optimizer.zero_grad()\n",
    "          loss.backward()\n",
    "          optimizer.step()\n",
    "\n",
    "          running_loss += loss.item()\n",
    "\n",
    "    print(f\"Epoch {epoch + 1} / {num_epochs}, Loss: {running_loss / len(train_dataloader)}\")\n",
    "\n",
    "print('훈련 완료')\n"
   ]
  },
  {
   "cell_type": "code",
   "execution_count": 7,
   "metadata": {},
   "outputs": [
    {
     "name": "stdout",
     "output_type": "stream",
     "text": [
      "Model saved at save\\model3.pth\n"
     ]
    }
   ],
   "source": [
    "model_dir = \"save\"\n",
    "os.makedirs(model_dir, exist_ok=True)\n",
    "\n",
    "model_path = os.path.join(model_dir, \"model4.pth\")\n",
    "torch.save(model.state_dict(), model_path)\n",
    "print(f\"Model saved at {model_path}\")"
   ]
  }
 ],
 "metadata": {
  "accelerator": "GPU",
  "colab": {
   "gpuType": "T4",
   "provenance": []
  },
  "kernelspec": {
   "display_name": "Python 3 (ipykernel)",
   "language": "python",
   "name": "python3"
  },
  "language_info": {
   "codemirror_mode": {
    "name": "ipython",
    "version": 3
   },
   "file_extension": ".py",
   "mimetype": "text/x-python",
   "name": "python",
   "nbconvert_exporter": "python",
   "pygments_lexer": "ipython3",
   "version": "3.11.4"
  }
 },
 "nbformat": 4,
 "nbformat_minor": 4
}
